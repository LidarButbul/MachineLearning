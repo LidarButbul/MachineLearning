{
  "nbformat": 4,
  "nbformat_minor": 0,
  "metadata": {
    "colab": {
      "provenance": []
    },
    "kernelspec": {
      "name": "python3",
      "display_name": "Python 3"
    },
    "language_info": {
      "name": "python"
    }
  },
  "cells": [
    {
      "cell_type": "markdown",
      "source": [
        "# Loading the data"
      ],
      "metadata": {
        "id": "8TAdCAupan2m"
      }
    },
    {
      "cell_type": "code",
      "source": [
        "import numpy as np\n",
        "import os\n",
        "import tensorflow as tf\n",
        "import pandas as pd\n",
        "import cv2\n",
        "IMG_WIDTH=32\n",
        "IMG_HEIGHT=30\n",
        "IMG_FOLDER=r'Data/'\n",
        "\n",
        "def create_dataset(img_folder):\n",
        "  img_data_array=[]\n",
        "  class_name=[]\n",
        "  for dir1 in os.listdir(img_folder):\n",
        "    for file in os.listdir(os.path.join(img_folder, dir1)):\n",
        "      image_path = os.path.join(img_folder, dir1, file)\n",
        "      image = cv2.imread( image_path, cv2.COLOR_BGR2RGB)\n",
        "      image = cv2.resize(image, (IMG_HEIGHT, IMG_WIDTH),\n",
        "      interpolation = cv2.INTER_AREA)\n",
        "      image = np.array(image)\n",
        "      image = image.astype('float32')\n",
        "      image /= 255\n",
        "      img_data_array.append(image)\n",
        "      class_name.append(dir1)\n",
        "  return img_data_array, class_name\n",
        "\n",
        "# Extract the image array and class name\n",
        "img_data, class_name = create_dataset(IMG_FOLDER)\n",
        "target_dict={k: v for v, k in enumerate(np.unique(class_name))}\n",
        "# Convert the class_names to their respective numeric value based on the dictionary\n",
        "target_val = [target_dict[class_name[i]] for i in range(len(class_name))]\n",
        "# Convert to X - a 3d array (samples, width, height) and y - 0/1\n",
        "X = tf.cast(np.array(img_data), tf.float64)\n",
        "y = tf.cast(list(map(int,target_val)),tf.int32)\n",
        "X = np.array(X)\n",
        "y = np.array(y)"
      ],
      "metadata": {
        "id": "WawxmwE5a14s"
      },
      "execution_count": null,
      "outputs": []
    },
    {
      "cell_type": "markdown",
      "source": [
        "Split your dataset into a train and test set using sklearn's `train_test_split` function."
      ],
      "metadata": {
        "id": "FD6bVD89zTI7"
      }
    },
    {
      "cell_type": "code",
      "source": [
        "from sklearn.model_selection import train_test_split\n",
        "\n",
        "X_train, X_test, y_train, y_test = train_test_split(X, y, test_size=0.2, random_state=42)"
      ],
      "metadata": {
        "id": "j6G3D7OVzfOW"
      },
      "execution_count": null,
      "outputs": []
    },
    {
      "cell_type": "markdown",
      "source": [
        "# Train the models to search for optimal hyperparameters"
      ],
      "metadata": {
        "id": "cm06tauMe6cD"
      }
    },
    {
      "cell_type": "markdown",
      "source": [
        "Define CNN model using a library"
      ],
      "metadata": {
        "id": "dV574mib1FGw"
      }
    },
    {
      "cell_type": "code",
      "source": [
        "from keras.models import Sequential\n",
        "from keras.layers import Conv2D, MaxPooling2D, Flatten, Dense\n",
        "\n",
        "def create_model():\n",
        "  model = Sequential()\n",
        "  model.add(Conv2D(32, (3, 3), input_shape=(32, 30, 1), activation='relu'))\n",
        "  model.add(MaxPooling2D(pool_size=(2, 2)))\n",
        "  model.add(Flatten())\n",
        "  model.add(Dense(units=128, activation='relu'))\n",
        "  model.add(Dense(units=1, activation='sigmoid'))\n",
        "  model.compile(optimizer='adam', loss='binary_crossentropy', metrics=['accuracy'])\n",
        "  return model"
      ],
      "metadata": {
        "id": "4PQI0NiL4UdB"
      },
      "execution_count": null,
      "outputs": []
    },
    {
      "cell_type": "markdown",
      "source": [
        "Define the hyperparameters that we want to test during grid search"
      ],
      "metadata": {
        "id": "LRDNi5U11sdT"
      }
    },
    {
      "cell_type": "code",
      "source": [
        "from sklearn.model_selection import GridSearchCV\n",
        "from keras.wrappers.scikit_learn import KerasClassifier\n",
        "\n",
        "param_grid = {'epochs': [5, 10, 15, 20],\n",
        "              'batch_size': [32, 64, 128]}"
      ],
      "metadata": {
        "id": "ilgbhNol1y_C"
      },
      "execution_count": null,
      "outputs": []
    },
    {
      "cell_type": "markdown",
      "source": [
        "Use GridSearchCV to find the optimal hyperparameters - **Using optimizer 'adam'**"
      ],
      "metadata": {
        "id": "Sbx25l142Qc5"
      }
    },
    {
      "cell_type": "code",
      "source": [
        "model = KerasClassifier(build_fn=create_model)\n",
        "grid = GridSearchCV(estimator=model, param_grid=param_grid, scoring=\"accuracy\", n_jobs=-1, cv=3)\n",
        "grid_result = grid.fit(X_train, y_train)"
      ],
      "metadata": {
        "colab": {
          "base_uri": "https://localhost:8080/"
        },
        "id": "rUDwVAJu2Ru8",
        "outputId": "899d8ab3-c032-483f-81af-189b1203fb66"
      },
      "execution_count": null,
      "outputs": [
        {
          "output_type": "stream",
          "name": "stderr",
          "text": [
            "<ipython-input-5-1de469b936ea>:1: DeprecationWarning: KerasClassifier is deprecated, use Sci-Keras (https://github.com/adriangb/scikeras) instead. See https://www.adriangb.com/scikeras/stable/migration.html for help migrating.\n",
            "  model = KerasClassifier(build_fn=create_model)\n"
          ]
        },
        {
          "output_type": "stream",
          "name": "stdout",
          "text": [
            "Epoch 1/20\n",
            "16/16 [==============================] - 1s 27ms/step - loss: 0.7014 - accuracy: 0.5271\n",
            "Epoch 2/20\n",
            "16/16 [==============================] - 0s 26ms/step - loss: 0.6694 - accuracy: 0.6052\n",
            "Epoch 3/20\n",
            "16/16 [==============================] - 0s 26ms/step - loss: 0.6348 - accuracy: 0.6633\n",
            "Epoch 4/20\n",
            "16/16 [==============================] - 0s 28ms/step - loss: 0.5827 - accuracy: 0.7074\n",
            "Epoch 5/20\n",
            "16/16 [==============================] - 0s 27ms/step - loss: 0.5246 - accuracy: 0.7876\n",
            "Epoch 6/20\n",
            "16/16 [==============================] - 0s 27ms/step - loss: 0.4615 - accuracy: 0.8257\n",
            "Epoch 7/20\n",
            "16/16 [==============================] - 0s 26ms/step - loss: 0.4160 - accuracy: 0.8617\n",
            "Epoch 8/20\n",
            "16/16 [==============================] - 0s 28ms/step - loss: 0.3711 - accuracy: 0.8697\n",
            "Epoch 9/20\n",
            "16/16 [==============================] - 0s 27ms/step - loss: 0.3515 - accuracy: 0.8918\n",
            "Epoch 10/20\n",
            "16/16 [==============================] - 0s 27ms/step - loss: 0.3116 - accuracy: 0.9038\n",
            "Epoch 11/20\n",
            "16/16 [==============================] - 0s 28ms/step - loss: 0.2778 - accuracy: 0.9238\n",
            "Epoch 12/20\n",
            "16/16 [==============================] - 0s 26ms/step - loss: 0.2595 - accuracy: 0.9279\n",
            "Epoch 13/20\n",
            "16/16 [==============================] - 0s 27ms/step - loss: 0.2467 - accuracy: 0.9178\n",
            "Epoch 14/20\n",
            "16/16 [==============================] - 0s 28ms/step - loss: 0.2119 - accuracy: 0.9439\n",
            "Epoch 15/20\n",
            "16/16 [==============================] - 0s 26ms/step - loss: 0.1997 - accuracy: 0.9379\n",
            "Epoch 16/20\n",
            "16/16 [==============================] - 0s 26ms/step - loss: 0.1756 - accuracy: 0.9519\n",
            "Epoch 17/20\n",
            "16/16 [==============================] - 1s 45ms/step - loss: 0.1708 - accuracy: 0.9539\n",
            "Epoch 18/20\n",
            "16/16 [==============================] - 1s 33ms/step - loss: 0.1485 - accuracy: 0.9619\n",
            "Epoch 19/20\n",
            "16/16 [==============================] - 0s 27ms/step - loss: 0.1365 - accuracy: 0.9719\n",
            "Epoch 20/20\n",
            "16/16 [==============================] - 0s 26ms/step - loss: 0.1243 - accuracy: 0.9719\n"
          ]
        }
      ]
    },
    {
      "cell_type": "markdown",
      "source": [
        "Use the best hyperparameters to train the CNN model on the entire train set.\n"
      ],
      "metadata": {
        "id": "7T0a4eNH2iw7"
      }
    },
    {
      "cell_type": "code",
      "source": [
        "best_param = grid.best_params_\n",
        "model = create_model()\n",
        "history = model.fit(X_train, y_train, epochs=best_param['epochs'], batch_size=best_param['batch_size'],\n",
        "                    validation_data=(X_test, y_test))"
      ],
      "metadata": {
        "colab": {
          "base_uri": "https://localhost:8080/"
        },
        "id": "AqfPHqr_2gzF",
        "outputId": "acc500e0-7dff-4c83-dd3f-b62d2b3e112f"
      },
      "execution_count": null,
      "outputs": [
        {
          "output_type": "stream",
          "name": "stdout",
          "text": [
            "Epoch 1/20\n",
            "16/16 [==============================] - 1s 41ms/step - loss: 0.6758 - accuracy: 0.6092 - val_loss: 0.7048 - val_accuracy: 0.4240\n",
            "Epoch 2/20\n",
            "16/16 [==============================] - 0s 29ms/step - loss: 0.6057 - accuracy: 0.7074 - val_loss: 0.6276 - val_accuracy: 0.5680\n",
            "Epoch 3/20\n",
            "16/16 [==============================] - 0s 30ms/step - loss: 0.5413 - accuracy: 0.7495 - val_loss: 0.5339 - val_accuracy: 0.6720\n",
            "Epoch 4/20\n",
            "16/16 [==============================] - 0s 29ms/step - loss: 0.5161 - accuracy: 0.7455 - val_loss: 0.4337 - val_accuracy: 0.8480\n",
            "Epoch 5/20\n",
            "16/16 [==============================] - 0s 30ms/step - loss: 0.4175 - accuracy: 0.8577 - val_loss: 0.4111 - val_accuracy: 0.8480\n",
            "Epoch 6/20\n",
            "16/16 [==============================] - 0s 30ms/step - loss: 0.3676 - accuracy: 0.8717 - val_loss: 0.3181 - val_accuracy: 0.9120\n",
            "Epoch 7/20\n",
            "16/16 [==============================] - 0s 29ms/step - loss: 0.3228 - accuracy: 0.8858 - val_loss: 0.3076 - val_accuracy: 0.9040\n",
            "Epoch 8/20\n",
            "16/16 [==============================] - 0s 31ms/step - loss: 0.2776 - accuracy: 0.9178 - val_loss: 0.2517 - val_accuracy: 0.9440\n",
            "Epoch 9/20\n",
            "16/16 [==============================] - 0s 30ms/step - loss: 0.2487 - accuracy: 0.9259 - val_loss: 0.2255 - val_accuracy: 0.9280\n",
            "Epoch 10/20\n",
            "16/16 [==============================] - 0s 31ms/step - loss: 0.2066 - accuracy: 0.9519 - val_loss: 0.2295 - val_accuracy: 0.9280\n",
            "Epoch 11/20\n",
            "16/16 [==============================] - 0s 29ms/step - loss: 0.2028 - accuracy: 0.9399 - val_loss: 0.1809 - val_accuracy: 0.9440\n",
            "Epoch 12/20\n",
            "16/16 [==============================] - 0s 31ms/step - loss: 0.1771 - accuracy: 0.9619 - val_loss: 0.1690 - val_accuracy: 0.9520\n",
            "Epoch 13/20\n",
            "16/16 [==============================] - 0s 31ms/step - loss: 0.1449 - accuracy: 0.9639 - val_loss: 0.2139 - val_accuracy: 0.9200\n",
            "Epoch 14/20\n",
            "16/16 [==============================] - 0s 30ms/step - loss: 0.1367 - accuracy: 0.9579 - val_loss: 0.1507 - val_accuracy: 0.9520\n",
            "Epoch 15/20\n",
            "16/16 [==============================] - 0s 30ms/step - loss: 0.1132 - accuracy: 0.9739 - val_loss: 0.1194 - val_accuracy: 0.9680\n",
            "Epoch 16/20\n",
            "16/16 [==============================] - 0s 30ms/step - loss: 0.0964 - accuracy: 0.9780 - val_loss: 0.1074 - val_accuracy: 0.9680\n",
            "Epoch 17/20\n",
            "16/16 [==============================] - 0s 30ms/step - loss: 0.0863 - accuracy: 0.9780 - val_loss: 0.1145 - val_accuracy: 0.9600\n",
            "Epoch 18/20\n",
            "16/16 [==============================] - 0s 31ms/step - loss: 0.0726 - accuracy: 0.9900 - val_loss: 0.1016 - val_accuracy: 0.9680\n",
            "Epoch 19/20\n",
            "16/16 [==============================] - 0s 29ms/step - loss: 0.0711 - accuracy: 0.9840 - val_loss: 0.1316 - val_accuracy: 0.9440\n",
            "Epoch 20/20\n",
            "16/16 [==============================] - 0s 30ms/step - loss: 0.0664 - accuracy: 0.9920 - val_loss: 0.0833 - val_accuracy: 0.9760\n"
          ]
        }
      ]
    },
    {
      "cell_type": "markdown",
      "source": [
        "Now, we will performed the same steps **using optimizer 'sgd'**"
      ],
      "metadata": {
        "id": "qHVqHMBeY7si"
      }
    },
    {
      "cell_type": "code",
      "source": [
        "def create_model_sgd():\n",
        "  model = Sequential()\n",
        "  model.add(Conv2D(32, (3, 3), input_shape=(32, 30, 1), activation='relu'))\n",
        "  model.add(MaxPooling2D(pool_size=(2, 2)))\n",
        "  model.add(Flatten())\n",
        "  model.add(Dense(units=128, activation='relu'))\n",
        "  model.add(Dense(units=1, activation='sigmoid'))\n",
        "  model.compile(optimizer='sgd', loss='binary_crossentropy', metrics=['accuracy'])\n",
        "  return model"
      ],
      "metadata": {
        "id": "1im6ubEValOx"
      },
      "execution_count": null,
      "outputs": []
    },
    {
      "cell_type": "code",
      "source": [
        "model_sgd = KerasClassifier(build_fn=create_model_sgd)\n",
        "grid_sgd = GridSearchCV(estimator=model_sgd, param_grid=param_grid, scoring=\"accuracy\", n_jobs=-1, cv=3)\n",
        "grid_result_sgd = grid_sgd.fit(X_train, y_train)"
      ],
      "metadata": {
        "colab": {
          "base_uri": "https://localhost:8080/"
        },
        "id": "Id1HbbQ3ZZx0",
        "outputId": "392be52f-062f-431a-a8f8-fe60ef7b9f91"
      },
      "execution_count": null,
      "outputs": [
        {
          "output_type": "stream",
          "name": "stdout",
          "text": [
            "Epoch 1/20\n",
            "16/16 [==============================] - 1s 25ms/step - loss: 0.6943 - accuracy: 0.4870\n",
            "Epoch 2/20\n",
            "16/16 [==============================] - 0s 24ms/step - loss: 0.6922 - accuracy: 0.5571\n",
            "Epoch 3/20\n",
            "16/16 [==============================] - 0s 24ms/step - loss: 0.6908 - accuracy: 0.6012\n",
            "Epoch 4/20\n",
            "16/16 [==============================] - 0s 25ms/step - loss: 0.6899 - accuracy: 0.6012\n",
            "Epoch 5/20\n",
            "16/16 [==============================] - 0s 25ms/step - loss: 0.6891 - accuracy: 0.5511\n",
            "Epoch 6/20\n",
            "16/16 [==============================] - 0s 27ms/step - loss: 0.6881 - accuracy: 0.6092\n",
            "Epoch 7/20\n",
            "16/16 [==============================] - 0s 24ms/step - loss: 0.6875 - accuracy: 0.5351\n",
            "Epoch 8/20\n",
            "16/16 [==============================] - 0s 25ms/step - loss: 0.6866 - accuracy: 0.5271\n",
            "Epoch 9/20\n",
            "16/16 [==============================] - 0s 25ms/step - loss: 0.6861 - accuracy: 0.5812\n",
            "Epoch 10/20\n",
            "16/16 [==============================] - 0s 25ms/step - loss: 0.6856 - accuracy: 0.5411\n",
            "Epoch 11/20\n",
            "16/16 [==============================] - 0s 25ms/step - loss: 0.6846 - accuracy: 0.5812\n",
            "Epoch 12/20\n",
            "16/16 [==============================] - 0s 25ms/step - loss: 0.6839 - accuracy: 0.5571\n",
            "Epoch 13/20\n",
            "16/16 [==============================] - 0s 27ms/step - loss: 0.6833 - accuracy: 0.5651\n",
            "Epoch 14/20\n",
            "16/16 [==============================] - 0s 24ms/step - loss: 0.6826 - accuracy: 0.6032\n",
            "Epoch 15/20\n",
            "16/16 [==============================] - 0s 26ms/step - loss: 0.6819 - accuracy: 0.6032\n",
            "Epoch 16/20\n",
            "16/16 [==============================] - 0s 25ms/step - loss: 0.6811 - accuracy: 0.5972\n",
            "Epoch 17/20\n",
            "16/16 [==============================] - 0s 25ms/step - loss: 0.6808 - accuracy: 0.6092\n",
            "Epoch 18/20\n",
            "16/16 [==============================] - 0s 25ms/step - loss: 0.6800 - accuracy: 0.6393\n",
            "Epoch 19/20\n",
            "16/16 [==============================] - 0s 24ms/step - loss: 0.6787 - accuracy: 0.6172\n",
            "Epoch 20/20\n",
            "16/16 [==============================] - 0s 25ms/step - loss: 0.6778 - accuracy: 0.6232\n"
          ]
        }
      ]
    },
    {
      "cell_type": "code",
      "source": [
        "best_param_sgd = grid_sgd.best_params_\n",
        "model_sgd = create_model_sgd()\n",
        "history_sgd = model_sgd.fit(X_train, y_train, epochs=best_param_sgd['epochs'], batch_size=best_param_sgd['batch_size'],\n",
        "                    validation_data=(X_test, y_test))"
      ],
      "metadata": {
        "colab": {
          "base_uri": "https://localhost:8080/"
        },
        "id": "if7_VqkUZfir",
        "outputId": "2b38fb9b-9f45-4325-f84b-1d40cf789d02"
      },
      "execution_count": null,
      "outputs": [
        {
          "output_type": "stream",
          "name": "stdout",
          "text": [
            "Epoch 1/20\n",
            "16/16 [==============================] - 1s 40ms/step - loss: 0.6929 - accuracy: 0.4950 - val_loss: 0.6945 - val_accuracy: 0.4000\n",
            "Epoch 2/20\n",
            "16/16 [==============================] - 0s 28ms/step - loss: 0.6918 - accuracy: 0.5291 - val_loss: 0.6946 - val_accuracy: 0.4160\n",
            "Epoch 3/20\n",
            "16/16 [==============================] - 0s 29ms/step - loss: 0.6911 - accuracy: 0.5311 - val_loss: 0.6949 - val_accuracy: 0.4240\n",
            "Epoch 4/20\n",
            "16/16 [==============================] - 0s 27ms/step - loss: 0.6907 - accuracy: 0.5391 - val_loss: 0.6947 - val_accuracy: 0.4240\n",
            "Epoch 5/20\n",
            "16/16 [==============================] - 0s 29ms/step - loss: 0.6901 - accuracy: 0.5291 - val_loss: 0.6947 - val_accuracy: 0.4240\n",
            "Epoch 6/20\n",
            "16/16 [==============================] - 0s 29ms/step - loss: 0.6896 - accuracy: 0.5351 - val_loss: 0.6947 - val_accuracy: 0.4240\n",
            "Epoch 7/20\n",
            "16/16 [==============================] - 1s 32ms/step - loss: 0.6890 - accuracy: 0.5311 - val_loss: 0.6950 - val_accuracy: 0.4240\n",
            "Epoch 8/20\n",
            "16/16 [==============================] - 0s 28ms/step - loss: 0.6885 - accuracy: 0.5230 - val_loss: 0.6948 - val_accuracy: 0.4240\n",
            "Epoch 9/20\n",
            "16/16 [==============================] - 0s 28ms/step - loss: 0.6882 - accuracy: 0.5190 - val_loss: 0.6941 - val_accuracy: 0.4240\n",
            "Epoch 10/20\n",
            "16/16 [==============================] - 0s 28ms/step - loss: 0.6875 - accuracy: 0.5291 - val_loss: 0.6942 - val_accuracy: 0.4240\n",
            "Epoch 11/20\n",
            "16/16 [==============================] - 0s 30ms/step - loss: 0.6870 - accuracy: 0.5210 - val_loss: 0.6932 - val_accuracy: 0.4320\n",
            "Epoch 12/20\n",
            "16/16 [==============================] - 0s 28ms/step - loss: 0.6867 - accuracy: 0.5251 - val_loss: 0.6924 - val_accuracy: 0.4320\n",
            "Epoch 13/20\n",
            "16/16 [==============================] - 0s 28ms/step - loss: 0.6863 - accuracy: 0.5551 - val_loss: 0.6919 - val_accuracy: 0.4400\n",
            "Epoch 14/20\n",
            "16/16 [==============================] - 0s 29ms/step - loss: 0.6858 - accuracy: 0.5411 - val_loss: 0.6918 - val_accuracy: 0.4400\n",
            "Epoch 15/20\n",
            "16/16 [==============================] - 0s 28ms/step - loss: 0.6852 - accuracy: 0.5391 - val_loss: 0.6910 - val_accuracy: 0.4560\n",
            "Epoch 16/20\n",
            "16/16 [==============================] - 0s 28ms/step - loss: 0.6848 - accuracy: 0.5832 - val_loss: 0.6907 - val_accuracy: 0.4640\n",
            "Epoch 17/20\n",
            "16/16 [==============================] - 0s 27ms/step - loss: 0.6842 - accuracy: 0.5691 - val_loss: 0.6899 - val_accuracy: 0.4880\n",
            "Epoch 18/20\n",
            "16/16 [==============================] - 0s 29ms/step - loss: 0.6836 - accuracy: 0.5872 - val_loss: 0.6903 - val_accuracy: 0.4720\n",
            "Epoch 19/20\n",
            "16/16 [==============================] - 0s 27ms/step - loss: 0.6831 - accuracy: 0.5772 - val_loss: 0.6894 - val_accuracy: 0.4880\n",
            "Epoch 20/20\n",
            "16/16 [==============================] - 0s 28ms/step - loss: 0.6826 - accuracy: 0.5892 - val_loss: 0.6883 - val_accuracy: 0.5360\n"
          ]
        }
      ]
    },
    {
      "cell_type": "markdown",
      "source": [
        "# Evaluation"
      ],
      "metadata": {
        "id": "VN5ABylXTuwZ"
      }
    },
    {
      "cell_type": "markdown",
      "source": [
        "evaluate the model on the test set to get an idea of its performance on unseen data:"
      ],
      "metadata": {
        "id": "EZeqWAiF213R"
      }
    },
    {
      "cell_type": "markdown",
      "source": [
        "**using adam optimizer**"
      ],
      "metadata": {
        "id": "ZKvmZPivb4uq"
      }
    },
    {
      "cell_type": "code",
      "source": [
        "test_loss, test_acc = model.evaluate(X_test, y_test)\n",
        "print('Test accuracy:', test_acc)"
      ],
      "metadata": {
        "colab": {
          "base_uri": "https://localhost:8080/"
        },
        "id": "lDLCYP1K20-_",
        "outputId": "7551bb7d-e15b-44b7-924e-e387d4a3a9cb"
      },
      "execution_count": null,
      "outputs": [
        {
          "output_type": "stream",
          "name": "stdout",
          "text": [
            "4/4 [==============================] - 0s 9ms/step - loss: 0.0833 - accuracy: 0.9760\n",
            "Test accuracy: 0.9760000109672546\n"
          ]
        }
      ]
    },
    {
      "cell_type": "code",
      "source": [
        "import matplotlib.pyplot as plt\n",
        "plt.plot(history.history['accuracy'], label='accuracy')\n",
        "plt.plot(history.history['val_accuracy'], label = 'val_accuracy')\n",
        "plt.xlabel('Epoch')\n",
        "plt.ylabel('Accuracy')\n",
        "plt.ylim([0.5, 1])\n",
        "plt.legend(loc='lower right')"
      ],
      "metadata": {
        "colab": {
          "base_uri": "https://localhost:8080/",
          "height": 301
        },
        "id": "qMZXn-B0T373",
        "outputId": "5da2a8f2-299c-4a5e-bd5b-317261291c72"
      },
      "execution_count": null,
      "outputs": [
        {
          "output_type": "stream",
          "name": "stdout",
          "text": [
            "4/4 [==============================] - 0s 9ms/step - loss: 0.0833 - accuracy: 0.9760\n"
          ]
        },
        {
          "output_type": "display_data",
          "data": {
            "text/plain": [
              "<Figure size 432x288 with 1 Axes>"
            ],
            "image/png": "[encoded data removed]"
          },
          "metadata": {
            "needs_background": "light"
          }
        }
      ]
    },
    {
      "cell_type": "code",
      "source": [
        "import matplotlib.pyplot as plt\n",
        "plt.plot(history.history['loss'], label='loss')\n",
        "plt.plot(history.history['val_loss'], label = 'val_loss')\n",
        "plt.xlabel('Epoch')\n",
        "plt.ylabel('loss')\n",
        "plt.ylim([0, 1])\n",
        "plt.legend(loc='uper right')"
      ],
      "metadata": {
        "colab": {
          "base_uri": "https://localhost:8080/",
          "height": 301
        },
        "id": "qWFL6nMJc1dh",
        "outputId": "fea3ec44-6ee9-4e8d-86e4-1e821a2e46a8"
      },
      "execution_count": null,
      "outputs": [
        {
          "output_type": "execute_result",
          "data": {
            "text/plain": [
              "<matplotlib.legend.Legend at 0x7fcebd1dd9a0>"
            ]
          },
          "metadata": {},
          "execution_count": 22
        },
        {
          "output_type": "display_data",
          "data": {
            "text/plain": [
              "<Figure size 432x288 with 1 Axes>"
            ],
            "image/png": "[encoded data removed]"
          },
          "metadata": {
            "needs_background": "light"
          }
        }
      ]
    },
    {
      "cell_type": "markdown",
      "source": [
        "**using sgd optimizer**"
      ],
      "metadata": {
        "id": "3qw4wWjYbQ-8"
      }
    },
    {
      "cell_type": "code",
      "source": [
        "test_loss_sgd, test_acc_sgd = model_sgd.evaluate(X_test, y_test)\n",
        "print('Test accuracy:', test_acc_sgd)"
      ],
      "metadata": {
        "colab": {
          "base_uri": "https://localhost:8080/"
        },
        "id": "bd61h9Rab8Cg",
        "outputId": "4bb7e01b-5d0a-4391-9dd3-3173ab2fb491"
      },
      "execution_count": null,
      "outputs": [
        {
          "output_type": "stream",
          "name": "stdout",
          "text": [
            "4/4 [==============================] - 0s 9ms/step - loss: 0.6883 - accuracy: 0.5360\n",
            "Test accuracy: 0.5360000133514404\n"
          ]
        }
      ]
    },
    {
      "cell_type": "code",
      "source": [
        "import matplotlib.pyplot as plt\n",
        "plt.plot(history_sgd.history['accuracy'], label='accuracy')\n",
        "plt.plot(history_sgd.history['val_accuracy'], label = 'val_accuracy')\n",
        "plt.xlabel('Epoch')\n",
        "plt.ylabel('Accuracy')\n",
        "plt.ylim([0, 1])\n",
        "plt.legend(loc='lower right')"
      ],
      "metadata": {
        "colab": {
          "base_uri": "https://localhost:8080/",
          "height": 301
        },
        "id": "Kd5KX95Zb91f",
        "outputId": "84402b54-8391-461b-a4cb-0869d5726bb1"
      },
      "execution_count": null,
      "outputs": [
        {
          "output_type": "execute_result",
          "data": {
            "text/plain": [
              "<matplotlib.legend.Legend at 0x7fcec149afa0>"
            ]
          },
          "metadata": {},
          "execution_count": 19
        },
        {
          "output_type": "display_data",
          "data": {
            "text/plain": [
              "<Figure size 432x288 with 1 Axes>"
            ],
            "image/png": "[encoded data removed]"
          },
          "metadata": {
            "needs_background": "light"
          }
        }
      ]
    },
    {
      "cell_type": "code",
      "source": [
        "import matplotlib.pyplot as plt\n",
        "plt.plot(history_sgd.history['loss'], label='loss')\n",
        "plt.plot(history_sgd.history['val_loss'], label = 'val_loss')\n",
        "plt.xlabel('Epoch')\n",
        "plt.ylabel('loss')\n",
        "plt.ylim([0, 1])\n",
        "plt.legend(loc='lower right')"
      ],
      "metadata": {
        "colab": {
          "base_uri": "https://localhost:8080/",
          "height": 301
        },
        "id": "NT9sullRdHp0",
        "outputId": "98ec02d0-6af4-472f-bfee-926aab53ca1f"
      },
      "execution_count": null,
      "outputs": [
        {
          "output_type": "execute_result",
          "data": {
            "text/plain": [
              "<matplotlib.legend.Legend at 0x7fcebd1bd6a0>"
            ]
          },
          "metadata": {},
          "execution_count": 23
        },
        {
          "output_type": "display_data",
          "data": {
            "text/plain": [
              "<Figure size 432x288 with 1 Axes>"
            ],
            "image/png": "[encoded data removed]"
          },
          "metadata": {
            "needs_background": "light"
          }
        }
      ]
    },
    {
      "cell_type": "markdown",
      "source": [
        "# Answers for the questions"
      ],
      "metadata": {
        "id": "I-ciDbZaWevm"
      }
    },
    {
      "cell_type": "markdown",
      "source": [
        "1. Does the model overfit?\n",
        "- **Answer:** We can see from the learning plot that while using `adam` optimizer the model doesn't overfit because the plot of training loss decreases to a point of stability ang the plot of validation loss decreases to a point of stability also and has a small gap with the training loss.\n",
        "\n",
        "2. What's the effect of batch size? In general, do you see this effect in the current task?\n",
        "- **Answer:** The batch size in a CNN model determines the number of samples that will be processed before the model's weights are updated. A larger batch size can lead to more stable gradients and faster training times, but it also requires more memory. Conversely, a smaller batch size can require less memory, but can lead to more noisy gradients and slower training times.\n",
        "In the current task we can see that the grid search chose the lowest batch size, therefore we assume that as we increase the batch size we get worst results.\n",
        "\n",
        "3. What was the optimal optimizer? Explain.\n",
        "- **Answer:** The optimal optimizer is `adam` optimizer becuase as we can see its performance was better according to accuracy score and loss."
      ],
      "metadata": {
        "id": "gZhYkbQkWrLu"
      }
    }
  ]
}